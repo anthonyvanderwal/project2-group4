{
 "metadata": {
  "language_info": {
   "codemirror_mode": {
    "name": "ipython",
    "version": 3
   },
   "file_extension": ".py",
   "mimetype": "text/x-python",
   "name": "python",
   "nbconvert_exporter": "python",
   "pygments_lexer": "ipython3",
   "version": "3.7.9-final"
  },
  "orig_nbformat": 2,
  "kernelspec": {
   "name": "python3",
   "display_name": "Python 3",
   "language": "python"
  }
 },
 "nbformat": 4,
 "nbformat_minor": 2,
 "cells": [
  {
   "cell_type": "code",
   "execution_count": 1,
   "metadata": {},
   "outputs": [],
   "source": [
    "# Dependencies\n",
    "# ----------------------------------\n",
    "# Imports the method used for connecting to DBs\n",
    "from sqlalchemy import create_engine\n",
    "\n",
    "\n",
    "# Imports the methods needed to abstract classes into tables\n",
    "from sqlalchemy.ext.declarative import declarative_base\n",
    "\n",
    "# Allow us to declare column types\n",
    "from sqlalchemy import Column, Integer, String, Float, Date\n",
    "\n",
    "#Import Pandas\n",
    "import pandas as pd\n"
   ]
  },
  {
   "cell_type": "code",
   "execution_count": null,
   "metadata": {},
   "outputs": [],
   "source": [
    "# Sets an object to utilize the default declarative base in SQL Alchemy\n",
    "Base = declarative_base()\n",
    "\n",
    "# Creates Classes which will serve as the anchor points for our Tables\n",
    "class historicalcity(Base):\n",
    "    __tablename__ = 'weather_city_hist'\n",
    "    index = Column(Integer, primary_key=True)\n",
    "    date = Column(String)\n",
    "    city = Column(String)\n",
    "    latitude= Column(Integer)\n",
    "    longitude = Column(Integer)\n",
    "    uv_index = Column(Integer)"
   ]
  },
  {
   "cell_type": "code",
   "execution_count": 2,
   "metadata": {},
   "outputs": [],
   "source": [
    "data_file = \"hstr_data_city.csv\""
   ]
  },
  {
   "cell_type": "code",
   "execution_count": 3,
   "metadata": {},
   "outputs": [
    {
     "output_type": "execute_result",
     "data": {
      "text/plain": [
       "                  date         city  latitude  longitude  uv_index\n",
       "0  2020-01-01 12:00:00       Albany   -35.023    117.881     12.58\n",
       "1  2020-01-01 12:00:00      Augusta   -34.312    115.159     12.96\n",
       "2  2020-01-01 12:00:00   Australind   -33.280    115.720     13.22\n",
       "3  2020-01-01 12:00:00  Bakers Hill   -31.750    116.450     13.78\n",
       "4  2020-01-01 12:00:00      Bentley   -32.000    115.920     13.40"
      ],
      "text/html": "<div>\n<style scoped>\n    .dataframe tbody tr th:only-of-type {\n        vertical-align: middle;\n    }\n\n    .dataframe tbody tr th {\n        vertical-align: top;\n    }\n\n    .dataframe thead th {\n        text-align: right;\n    }\n</style>\n<table border=\"1\" class=\"dataframe\">\n  <thead>\n    <tr style=\"text-align: right;\">\n      <th></th>\n      <th>date</th>\n      <th>city</th>\n      <th>latitude</th>\n      <th>longitude</th>\n      <th>uv_index</th>\n    </tr>\n  </thead>\n  <tbody>\n    <tr>\n      <th>0</th>\n      <td>2020-01-01 12:00:00</td>\n      <td>Albany</td>\n      <td>-35.023</td>\n      <td>117.881</td>\n      <td>12.58</td>\n    </tr>\n    <tr>\n      <th>1</th>\n      <td>2020-01-01 12:00:00</td>\n      <td>Augusta</td>\n      <td>-34.312</td>\n      <td>115.159</td>\n      <td>12.96</td>\n    </tr>\n    <tr>\n      <th>2</th>\n      <td>2020-01-01 12:00:00</td>\n      <td>Australind</td>\n      <td>-33.280</td>\n      <td>115.720</td>\n      <td>13.22</td>\n    </tr>\n    <tr>\n      <th>3</th>\n      <td>2020-01-01 12:00:00</td>\n      <td>Bakers Hill</td>\n      <td>-31.750</td>\n      <td>116.450</td>\n      <td>13.78</td>\n    </tr>\n    <tr>\n      <th>4</th>\n      <td>2020-01-01 12:00:00</td>\n      <td>Bentley</td>\n      <td>-32.000</td>\n      <td>115.920</td>\n      <td>13.40</td>\n    </tr>\n  </tbody>\n</table>\n</div>"
     },
     "metadata": {},
     "execution_count": 3
    }
   ],
   "source": [
    "df_file_city = pd.read_csv(data_file)\n",
    "df_file_city.head()"
   ]
  },
  {
   "cell_type": "code",
   "execution_count": null,
   "metadata": {},
   "outputs": [],
   "source": [
    "engine = create_engine('sqlite:///histcity.sqlite', echo=True)\n",
    "sqlite_connection = engine.connect()"
   ]
  },
  {
   "cell_type": "code",
   "execution_count": null,
   "metadata": {},
   "outputs": [],
   "source": [
    "sqlite_table = \"weather_city_hist\"\n",
    "df_file_city.to_sql(sqlite_table, sqlite_connection, if_exists='fail')"
   ]
  },
  {
   "cell_type": "code",
   "execution_count": null,
   "metadata": {},
   "outputs": [],
   "source": [
    "# Create a \"Metadata\" Layer That Abstracts our SQL Database\n",
    "# ----------------------------------\n",
    "# Create (if not already in existence) the tables associated with our classes.\n",
    "Base.metadata.create_all(engine)\n",
    "\n",
    "# Use this to clear out the db\n",
    "# ----------------------------------\n",
    "# Base.metadata.drop_all(engine)"
   ]
  },
  {
   "cell_type": "code",
   "execution_count": null,
   "metadata": {},
   "outputs": [],
   "source": [
    "# Create a Session Object to Connect to DB\n",
    "# ----------------------------------\n",
    "# Session is a temporary binding to our DB\n",
    "from sqlalchemy.orm import Session\n",
    "session = Session(bind=engine)"
   ]
  },
  {
   "cell_type": "code",
   "execution_count": null,
   "metadata": {},
   "outputs": [],
   "source": [
    "# Query the Tables\n",
    "# ----------------------------------\n",
    "# Perform a simple query of the database\n",
    "weather_list = session.query(historicalcity)\n",
    "for weather in weather_list:\n",
    "    print(weather.date)"
   ]
  },
  {
   "cell_type": "code",
   "execution_count": 4,
   "metadata": {},
   "outputs": [
    {
     "output_type": "execute_result",
     "data": {
      "text/plain": [
       "                  date         city  latitude  longitude  uv_index\n",
       "0  2020-01-01 12:00:00       Albany   -35.023    117.881     12.58\n",
       "1  2020-01-01 12:00:00      Augusta   -34.312    115.159     12.96\n",
       "2  2020-01-01 12:00:00   Australind   -33.280    115.720     13.22\n",
       "3  2020-01-01 12:00:00  Bakers Hill   -31.750    116.450     13.78\n",
       "4  2020-01-01 12:00:00      Bentley   -32.000    115.920     13.40"
      ],
      "text/html": "<div>\n<style scoped>\n    .dataframe tbody tr th:only-of-type {\n        vertical-align: middle;\n    }\n\n    .dataframe tbody tr th {\n        vertical-align: top;\n    }\n\n    .dataframe thead th {\n        text-align: right;\n    }\n</style>\n<table border=\"1\" class=\"dataframe\">\n  <thead>\n    <tr style=\"text-align: right;\">\n      <th></th>\n      <th>date</th>\n      <th>city</th>\n      <th>latitude</th>\n      <th>longitude</th>\n      <th>uv_index</th>\n    </tr>\n  </thead>\n  <tbody>\n    <tr>\n      <th>0</th>\n      <td>2020-01-01 12:00:00</td>\n      <td>Albany</td>\n      <td>-35.023</td>\n      <td>117.881</td>\n      <td>12.58</td>\n    </tr>\n    <tr>\n      <th>1</th>\n      <td>2020-01-01 12:00:00</td>\n      <td>Augusta</td>\n      <td>-34.312</td>\n      <td>115.159</td>\n      <td>12.96</td>\n    </tr>\n    <tr>\n      <th>2</th>\n      <td>2020-01-01 12:00:00</td>\n      <td>Australind</td>\n      <td>-33.280</td>\n      <td>115.720</td>\n      <td>13.22</td>\n    </tr>\n    <tr>\n      <th>3</th>\n      <td>2020-01-01 12:00:00</td>\n      <td>Bakers Hill</td>\n      <td>-31.750</td>\n      <td>116.450</td>\n      <td>13.78</td>\n    </tr>\n    <tr>\n      <th>4</th>\n      <td>2020-01-01 12:00:00</td>\n      <td>Bentley</td>\n      <td>-32.000</td>\n      <td>115.920</td>\n      <td>13.40</td>\n    </tr>\n  </tbody>\n</table>\n</div>"
     },
     "metadata": {},
     "execution_count": 4
    }
   ],
   "source": [
    "#Data Analysis\n",
    "df_file_city.head()"
   ]
  },
  {
   "cell_type": "code",
   "execution_count": null,
   "metadata": {},
   "outputs": [],
   "source": [
    "#highest UV\n",
    "df_file_city.sort_values(by=\"uv_index\",ascending=False).head()"
   ]
  },
  {
   "cell_type": "code",
   "execution_count": null,
   "metadata": {},
   "outputs": [],
   "source": [
    "#lowest UV\n",
    "df_file_city.sort_values(by=\"uv_index\").head()"
   ]
  },
  {
   "cell_type": "code",
   "execution_count": 5,
   "metadata": {},
   "outputs": [
    {
     "output_type": "execute_result",
     "data": {
      "text/plain": [
       "                  date         city  latitude  longitude  uv_index  month\n",
       "0  2020-01-01 12:00:00       Albany   -35.023    117.881     12.58      1\n",
       "1  2020-01-01 12:00:00      Augusta   -34.312    115.159     12.96      1\n",
       "2  2020-01-01 12:00:00   Australind   -33.280    115.720     13.22      1\n",
       "3  2020-01-01 12:00:00  Bakers Hill   -31.750    116.450     13.78      1\n",
       "4  2020-01-01 12:00:00      Bentley   -32.000    115.920     13.40      1"
      ],
      "text/html": "<div>\n<style scoped>\n    .dataframe tbody tr th:only-of-type {\n        vertical-align: middle;\n    }\n\n    .dataframe tbody tr th {\n        vertical-align: top;\n    }\n\n    .dataframe thead th {\n        text-align: right;\n    }\n</style>\n<table border=\"1\" class=\"dataframe\">\n  <thead>\n    <tr style=\"text-align: right;\">\n      <th></th>\n      <th>date</th>\n      <th>city</th>\n      <th>latitude</th>\n      <th>longitude</th>\n      <th>uv_index</th>\n      <th>month</th>\n    </tr>\n  </thead>\n  <tbody>\n    <tr>\n      <th>0</th>\n      <td>2020-01-01 12:00:00</td>\n      <td>Albany</td>\n      <td>-35.023</td>\n      <td>117.881</td>\n      <td>12.58</td>\n      <td>1</td>\n    </tr>\n    <tr>\n      <th>1</th>\n      <td>2020-01-01 12:00:00</td>\n      <td>Augusta</td>\n      <td>-34.312</td>\n      <td>115.159</td>\n      <td>12.96</td>\n      <td>1</td>\n    </tr>\n    <tr>\n      <th>2</th>\n      <td>2020-01-01 12:00:00</td>\n      <td>Australind</td>\n      <td>-33.280</td>\n      <td>115.720</td>\n      <td>13.22</td>\n      <td>1</td>\n    </tr>\n    <tr>\n      <th>3</th>\n      <td>2020-01-01 12:00:00</td>\n      <td>Bakers Hill</td>\n      <td>-31.750</td>\n      <td>116.450</td>\n      <td>13.78</td>\n      <td>1</td>\n    </tr>\n    <tr>\n      <th>4</th>\n      <td>2020-01-01 12:00:00</td>\n      <td>Bentley</td>\n      <td>-32.000</td>\n      <td>115.920</td>\n      <td>13.40</td>\n      <td>1</td>\n    </tr>\n  </tbody>\n</table>\n</div>"
     },
     "metadata": {},
     "execution_count": 5
    }
   ],
   "source": [
    "#add month column\n",
    "df_file_city[\"month\"] = df_file_city[\"date\"].str[5:7].astype(int)\n",
    "df_file_city.head()"
   ]
  },
  {
   "cell_type": "code",
   "execution_count": null,
   "metadata": {},
   "outputs": [],
   "source": [
    "#winter average uv (Halls Creek)\n",
    "hc_df_winter = df_file_city.loc[df_file_city[\"city\"] == \"Halls Creek\"]\n",
    "hc_df_winter.head()"
   ]
  },
  {
   "cell_type": "code",
   "execution_count": null,
   "metadata": {},
   "outputs": [],
   "source": [
    "hc_df_winter = hc_df_winter.loc[(hc_df_winter[\"month\"] == 6) | (hc_df_winter[\"month\"] == 7) | (hc_df_winter[\"month\"] == 8)]\n",
    "hc_df_winter.sort_values(by=\"month\",ascending=False).head()"
   ]
  },
  {
   "cell_type": "code",
   "execution_count": null,
   "metadata": {},
   "outputs": [],
   "source": [
    "hc_winter_average_uv = hc_df_winter[\"uv_index\"].mean()\n",
    "hc_winter_average_uv"
   ]
  },
  {
   "cell_type": "code",
   "execution_count": null,
   "metadata": {},
   "outputs": [],
   "source": [
    "#spring average uv (Halls Creek)\n",
    "hc_df_spring = df_file_city.loc[df_file_city[\"city\"] == \"Halls Creek\"]\n",
    "hc_df_spring = hc_df_spring.loc[(hc_df_spring[\"month\"] == 9) | (hc_df_spring[\"month\"] == 10) | (hc_df_spring[\"month\"] == 11)]\n",
    "hc_spring_average_uv = hc_df_spring[\"uv_index\"].mean()\n",
    "hc_spring_average_uv"
   ]
  },
  {
   "cell_type": "code",
   "execution_count": null,
   "metadata": {},
   "outputs": [],
   "source": [
    "#summer average uv (Halls Creek)\n",
    "hc_df_summer = df_file_city.loc[df_file_city[\"city\"] == \"Halls Creek\"]\n",
    "hc_df_summer = hc_df_summer.loc[(hc_df_summer[\"month\"] == 12) | (hc_df_summer[\"month\"] == 1) | (hc_df_summer[\"month\"] == 2)]\n",
    "hc_summer_average_uv = hc_df_summer[\"uv_index\"].mean()\n",
    "hc_summer_average_uv"
   ]
  },
  {
   "cell_type": "code",
   "execution_count": null,
   "metadata": {},
   "outputs": [],
   "source": [
    "#autumn average uv (Halls Creek)\n",
    "hc_df_autumn = df_file_city.loc[df_file_city[\"city\"] == \"Halls Creek\"]\n",
    "hc_df_autumn = hc_df_autumn.loc[(hc_df_autumn[\"month\"] == 3) | (hc_df_autumn[\"month\"] == 4) | (hc_df_autumn[\"month\"] == 5)]\n",
    "hc_autumn_average_uv = hc_df_autumn[\"uv_index\"].mean()\n",
    "hc_autumn_average_uv"
   ]
  },
  {
   "cell_type": "code",
   "execution_count": null,
   "metadata": {},
   "outputs": [],
   "source": [
    "#average uv index in Halls Creek\n",
    "hc_df = df_file_city.loc[df_file_city[\"city\"] == \"Halls Creek\"]\n",
    "hc_average_uv = hc_df[\"uv_index\"].mean()\n",
    "hc_average_uv"
   ]
  },
  {
   "cell_type": "code",
   "execution_count": null,
   "metadata": {},
   "outputs": [],
   "source": [
    "# average winter uv (Albany)\n",
    "albany_df_winter = df_file_city.loc[df_file_city[\"city\"] == \"Albany\"]\n",
    "albany_df_winter = albany_df_winter.loc[(albany_df_winter[\"month\"] == 6) | (albany_df_winter[\"month\"] == 7) | (albany_df_winter[\"month\"] == 8)]\n",
    "albany_winter_average_uv = albany_df_winter[\"uv_index\"].mean()\n",
    "albany_winter_average_uv"
   ]
  },
  {
   "cell_type": "code",
   "execution_count": null,
   "metadata": {},
   "outputs": [],
   "source": [
    "# average spring uv (Albany)\n",
    "albany_df_spring = df_file_city.loc[df_file_city[\"city\"] == \"Albany\"]\n",
    "albany_df_spring = albany_df_spring.loc[(albany_df_spring[\"month\"] == 9) | (albany_df_spring[\"month\"] == 10) | (albany_df_spring[\"month\"] == 11)]\n",
    "albany_spring_average_uv = albany_df_spring[\"uv_index\"].mean()\n",
    "albany_spring_average_uv"
   ]
  },
  {
   "cell_type": "code",
   "execution_count": null,
   "metadata": {},
   "outputs": [],
   "source": [
    "# average summer uv (Albany)\n",
    "albany_df_summer = df_file_city.loc[df_file_city[\"city\"] == \"Albany\"]\n",
    "albany_df_summer = albany_df_summer.loc[(albany_df_summer[\"month\"] == 12) | (albany_df_summer[\"month\"] == 1) | (albany_df_summer[\"month\"] == 2)]\n",
    "albany_summer_average_uv = albany_df_summer[\"uv_index\"].mean()\n",
    "albany_summer_average_uv"
   ]
  },
  {
   "cell_type": "code",
   "execution_count": null,
   "metadata": {},
   "outputs": [],
   "source": [
    "# average autumn uv (Albany)\n",
    "albany_df_autumn = df_file_city.loc[df_file_city[\"city\"] == \"Albany\"]\n",
    "albany_df_autumn = albany_df_autumn.loc[(albany_df_autumn[\"month\"] == 3) | (albany_df_autumn[\"month\"] == 4) | (albany_df_autumn[\"month\"] == 5)]\n",
    "albany_autumn_average_uv = albany_df_autumn[\"uv_index\"].mean()\n",
    "albany_autumn_average_uv"
   ]
  },
  {
   "cell_type": "code",
   "execution_count": null,
   "metadata": {},
   "outputs": [],
   "source": [
    "#average uv index in Albany\n",
    "albany_df = df_file_city.loc[df_file_city[\"city\"] == \"Albany\"]\n",
    "albany_average_uv = albany_df[\"uv_index\"].mean()\n",
    "albany_average_uv"
   ]
  },
  {
   "cell_type": "code",
   "execution_count": 7,
   "metadata": {},
   "outputs": [
    {
     "output_type": "execute_result",
     "data": {
      "text/plain": [
       "3.398913043478261"
      ]
     },
     "metadata": {},
     "execution_count": 7
    }
   ],
   "source": [
    "# average winter uv (Perth)\n",
    "perth_df_winter = df_file_city.loc[df_file_city[\"city\"] == \"Perth\"]\n",
    "perth_df_winter = perth_df_winter.loc[(perth_df_winter[\"month\"] == 6) | (perth_df_winter[\"month\"] == 7) | (perth_df_winter[\"month\"] == 8)]\n",
    "perth_winter_average_uv = perth_df_winter[\"uv_index\"].mean()\n",
    "perth_winter_average_uv"
   ]
  },
  {
   "cell_type": "code",
   "execution_count": 8,
   "metadata": {},
   "outputs": [
    {
     "output_type": "execute_result",
     "data": {
      "text/plain": [
       "8.879890109890109"
      ]
     },
     "metadata": {},
     "execution_count": 8
    }
   ],
   "source": [
    "# average spring uv (perth)\n",
    "perth_df_spring = df_file_city.loc[df_file_city[\"city\"] == \"Perth\"]\n",
    "perth_df_spring = perth_df_spring.loc[(perth_df_spring[\"month\"] == 9) | (perth_df_spring[\"month\"] == 10) | (perth_df_spring[\"month\"] == 11)]\n",
    "perth_spring_average_uv = perth_df_spring[\"uv_index\"].mean()\n",
    "perth_spring_average_uv"
   ]
  },
  {
   "cell_type": "code",
   "execution_count": 9,
   "metadata": {},
   "outputs": [
    {
     "output_type": "execute_result",
     "data": {
      "text/plain": [
       "12.937752808988764"
      ]
     },
     "metadata": {},
     "execution_count": 9
    }
   ],
   "source": [
    "# average summer uv (perth)\n",
    "perth_df_summer = df_file_city.loc[df_file_city[\"city\"] == \"Perth\"]\n",
    "perth_df_summer = perth_df_summer.loc[(perth_df_summer[\"month\"] == 12) | (perth_df_summer[\"month\"] == 1) | (perth_df_summer[\"month\"] == 2)]\n",
    "perth_summer_average_uv = perth_df_summer[\"uv_index\"].mean()\n",
    "perth_summer_average_uv"
   ]
  },
  {
   "cell_type": "code",
   "execution_count": 10,
   "metadata": {},
   "outputs": [
    {
     "output_type": "execute_result",
     "data": {
      "text/plain": [
       "6.456630434782609"
      ]
     },
     "metadata": {},
     "execution_count": 10
    }
   ],
   "source": [
    "# average autumn uv (perth)\n",
    "perth_df_autumn = df_file_city.loc[df_file_city[\"city\"] == \"Perth\"]\n",
    "perth_df_autumn = perth_df_autumn.loc[(perth_df_autumn[\"month\"] == 3) | (perth_df_autumn[\"month\"] == 4) | (perth_df_autumn[\"month\"] == 5)]\n",
    "perth_autumn_average_uv = perth_df_autumn[\"uv_index\"].mean()\n",
    "perth_autumn_average_uv"
   ]
  },
  {
   "cell_type": "code",
   "execution_count": null,
   "metadata": {},
   "outputs": [],
   "source": []
  }
 ]
}